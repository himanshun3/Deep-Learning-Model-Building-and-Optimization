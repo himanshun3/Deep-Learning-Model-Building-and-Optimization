{
 "cells": [
  {
   "cell_type": "code",
   "execution_count": 20,
   "metadata": {},
   "outputs": [
    {
     "name": "stdout",
     "output_type": "stream",
     "text": [
      "Epoch 1/1\n",
      "534/534 [==============================] - 1s 2ms/step - loss: 63.4062\n"
     ]
    },
    {
     "data": {
      "text/plain": [
       "<keras.callbacks.History at 0x7f80f69b5da0>"
      ]
     },
     "execution_count": 20,
     "metadata": {},
     "output_type": "execute_result"
    }
   ],
   "source": [
    "    #Regression\n",
    "\n",
    "import numpy as np\n",
    "import pandas as pd\n",
    "from keras.layers import Dense\n",
    "from keras.models import  Sequential\n",
    "predictors=pd.read_csv('hourly_wages.csv')\n",
    "n_cols=predictors.shape[1]\n",
    "target=predictors['wage_per_hour']\n",
    "model=Sequential()\n",
    "model.add(Dense(100,activation='relu',input_shape=(n_cols,)))\n",
    "model.add(Dense(100,activation='relu'))\n",
    "model.add(Dense(1))\n",
    "model.compile(optimizer='adam',loss='mean_squared_error')\n",
    "model.fit(predictors,target)"
   ]
  },
  {
   "cell_type": "code",
   "execution_count": 21,
   "metadata": {},
   "outputs": [
    {
     "name": "stdout",
     "output_type": "stream",
     "text": [
      "Epoch 1/1\n",
      "891/891 [==============================] - 1s 1ms/step - loss: 8.4118 - acc: 0.3838\n"
     ]
    },
    {
     "data": {
      "text/plain": [
       "<keras.callbacks.History at 0x7f80f4ae5ac8>"
      ]
     },
     "execution_count": 21,
     "metadata": {},
     "output_type": "execute_result"
    }
   ],
   "source": [
    "    #Classification\n",
    "    \n",
    "import pandas as pd\n",
    "from keras.layers import Dense\n",
    "from keras.models import Sequential\n",
    "from keras.utils import to_categorical\n",
    "df=pd.read_csv(\"titanic_all_numeric.csv\")\n",
    "predictors=df.drop(['survived'],axis=1).as_matrix()\n",
    "target=to_categorical(df['survived'])\n",
    "model=Sequential()\n",
    "n_cols=predictors.shape[1]\n",
    "model.add(Dense(32,activation='relu',input_shape=(n_cols,)))\n",
    "model.add(Dense(2))\n",
    "model.compile(optimizer='sgd',loss='categorical_crossentropy',metrics=['accuracy'])\n",
    "model.fit(predictors,target)"
   ]
  },
  {
   "cell_type": "code",
   "execution_count": 22,
   "metadata": {},
   "outputs": [
    {
     "name": "stdout",
     "output_type": "stream",
     "text": [
      "\n",
      "\n",
      " Testing models with learning rates; 0.000001\n",
      "\n",
      "Epoch 1/1\n",
      "891/891 [==============================] - 1s 1ms/step - loss: 1.9674\n",
      "\n",
      "\n",
      " Testing models with learning rates; 0.010000\n",
      "\n",
      "Epoch 1/1\n",
      "891/891 [==============================] - 1s 1ms/step - loss: 1.8168\n",
      "\n",
      "\n",
      " Testing models with learning rates; 1.000000\n",
      "\n",
      "Epoch 1/1\n",
      "891/891 [==============================] - 1s 1ms/step - loss: 6.2210\n"
     ]
    }
   ],
   "source": [
    "#Changing optimizing parameters i.e Learning Rates\n",
    "\n",
    "from keras.optimizers import SGD\n",
    "def get_new_model(input_shape=n_cols):\n",
    "    model=Sequential()\n",
    "    model.add(Dense(100,activation='relu',input_shape=(n_cols,)))\n",
    "    model.add(Dense(100,activation='relu'))\n",
    "    model.add(Dense(2,activation='softmax'))\n",
    "    return(model)\n",
    "\n",
    "lr_to_test=[0.000001,0.01,1]\n",
    "for lr in lr_to_test:\n",
    "    print('\\n\\n Testing models with learning rates; %f\\n' %lr)\n",
    "    model=get_new_model(n_cols)\n",
    "    my_optimizer=SGD(lr=lr)\n",
    "    model.compile(optimizer=my_optimizer,loss='categorical_crossentropy')\n",
    "    model.fit(predictors,target)"
   ]
  },
  {
   "cell_type": "code",
   "execution_count": 23,
   "metadata": {},
   "outputs": [
    {
     "name": "stdout",
     "output_type": "stream",
     "text": [
      "Train on 623 samples, validate on 268 samples\n",
      "Epoch 1/1\n",
      "623/623 [==============================] - 1s 2ms/step - loss: 4.4374 - acc: 0.3949 - val_loss: 3.1106 - val_acc: 0.3582\n"
     ]
    },
    {
     "data": {
      "text/plain": [
       "<keras.callbacks.History at 0x7f80f4c2c4a8>"
      ]
     },
     "execution_count": 23,
     "metadata": {},
     "output_type": "execute_result"
    }
   ],
   "source": [
    "#Model Validation\n",
    "\n",
    "import pandas as pd\n",
    "from keras.layers import Dense\n",
    "from keras.models import Sequential\n",
    "from keras.utils import to_categorical\n",
    "df=pd.read_csv(\"titanic_all_numeric.csv\")\n",
    "predictors=df.drop(['survived'],axis=1).as_matrix()\n",
    "target=to_categorical(df['survived'])\n",
    "model=Sequential()\n",
    "n_cols=predictors.shape[1]\n",
    "model.add(Dense(32,activation='relu',input_shape=(n_cols,)))\n",
    "model.add(Dense(2))\n",
    "model.compile(optimizer='adam',loss='categorical_crossentropy',metrics=['accuracy'])\n",
    "model.fit(predictors,target,validation_split=0.3)"
   ]
  },
  {
   "cell_type": "code",
   "execution_count": 24,
   "metadata": {},
   "outputs": [
    {
     "name": "stdout",
     "output_type": "stream",
     "text": [
      "Train on 623 samples, validate on 268 samples\n",
      "Epoch 1/20\n",
      "623/623 [==============================] - 1s 2ms/step - loss: 3.0563 - acc: 0.5795 - val_loss: 2.7479 - val_acc: 0.5672\n",
      "Epoch 2/20\n",
      "623/623 [==============================] - 0s 492us/step - loss: 2.3306 - acc: 0.5843 - val_loss: 1.8877 - val_acc: 0.6157\n",
      "Epoch 3/20\n",
      "623/623 [==============================] - 0s 383us/step - loss: 1.1504 - acc: 0.5907 - val_loss: 0.7768 - val_acc: 0.6194\n",
      "Epoch 4/20\n",
      "623/623 [==============================] - 0s 512us/step - loss: 0.7362 - acc: 0.6035 - val_loss: 0.7093 - val_acc: 0.6418\n",
      "Epoch 5/20\n",
      "623/623 [==============================] - 0s 512us/step - loss: 0.6979 - acc: 0.6051 - val_loss: 0.6710 - val_acc: 0.6418\n",
      "Epoch 6/20\n",
      "623/623 [==============================] - 1s 881us/step - loss: 0.6722 - acc: 0.6051 - val_loss: 0.6376 - val_acc: 0.6418\n",
      "Epoch 7/20\n",
      "623/623 [==============================] - 0s 473us/step - loss: 0.6496 - acc: 0.6051 - val_loss: 0.6112 - val_acc: 0.6455\n",
      "Epoch 8/20\n",
      "623/623 [==============================] - 0s 442us/step - loss: 0.6313 - acc: 0.6051 - val_loss: 0.5870 - val_acc: 0.7276\n",
      "Epoch 9/20\n",
      "623/623 [==============================] - 0s 367us/step - loss: 0.6178 - acc: 0.6806 - val_loss: 0.5674 - val_acc: 0.7388\n",
      "Epoch 10/20\n",
      "623/623 [==============================] - 0s 425us/step - loss: 0.6073 - acc: 0.6758 - val_loss: 0.5518 - val_acc: 0.7313\n",
      "Epoch 11/20\n",
      "623/623 [==============================] - 0s 530us/step - loss: 0.6029 - acc: 0.6742 - val_loss: 0.5440 - val_acc: 0.7351\n",
      "Epoch 12/20\n",
      "623/623 [==============================] - 0s 577us/step - loss: 0.5998 - acc: 0.6774 - val_loss: 0.5371 - val_acc: 0.7313\n",
      "Epoch 13/20\n",
      "623/623 [==============================] - 0s 754us/step - loss: 0.5980 - acc: 0.6693 - val_loss: 0.5337 - val_acc: 0.7313\n",
      "Epoch 14/20\n",
      "623/623 [==============================] - 0s 562us/step - loss: 0.5947 - acc: 0.6726 - val_loss: 0.5286 - val_acc: 0.7351\n",
      "Epoch 15/20\n",
      "623/623 [==============================] - 0s 503us/step - loss: 0.5943 - acc: 0.6726 - val_loss: 0.5313 - val_acc: 0.7351\n",
      "Epoch 16/20\n",
      "623/623 [==============================] - 0s 477us/step - loss: 0.5910 - acc: 0.6758 - val_loss: 0.5262 - val_acc: 0.7276\n",
      "Epoch 17/20\n",
      "623/623 [==============================] - 0s 317us/step - loss: 0.5885 - acc: 0.6742 - val_loss: 0.5257 - val_acc: 0.7201\n",
      "Epoch 18/20\n",
      "623/623 [==============================] - 0s 519us/step - loss: 0.5866 - acc: 0.6790 - val_loss: 0.5179 - val_acc: 0.7276\n",
      "Epoch 19/20\n",
      "623/623 [==============================] - 0s 586us/step - loss: 0.5843 - acc: 0.6838 - val_loss: 0.5218 - val_acc: 0.7276\n",
      "Epoch 20/20\n",
      "623/623 [==============================] - 0s 665us/step - loss: 0.5818 - acc: 0.6822 - val_loss: 0.5168 - val_acc: 0.7313\n"
     ]
    },
    {
     "data": {
      "text/plain": [
       "<keras.callbacks.History at 0x7f80efbc6f98>"
      ]
     },
     "execution_count": 24,
     "metadata": {},
     "output_type": "execute_result"
    }
   ],
   "source": [
    "#Early Stopping\n",
    "\n",
    "import pandas as pd\n",
    "from keras.layers import Dense\n",
    "from keras.models import Sequential\n",
    "from keras.utils import to_categorical\n",
    "from keras.callbacks import  EarlyStopping\n",
    "df=pd.read_csv(\"titanic_all_numeric.csv\")\n",
    "predictors=df.drop(['survived'],axis=1).as_matrix()\n",
    "target=to_categorical(df['survived'])\n",
    "model=Sequential()\n",
    "n_cols=predictors.shape[1]\n",
    "model.add(Dense(32,activation='relu',input_shape=(n_cols,)))\n",
    "model.add(Dense(2))\n",
    "model.compile(optimizer='adam',loss='categorical_crossentropy',metrics=['accuracy'])\n",
    "early_stopping_monitor=EarlyStopping(patience=2)\n",
    "model.fit(predictors,target,validation_split=0.3,epochs=20,callbacks=[early_stopping_monitor])"
   ]
  },
  {
   "cell_type": "code",
   "execution_count": null,
   "metadata": {},
   "outputs": [],
   "source": []
  }
 ],
 "metadata": {
  "kernelspec": {
   "display_name": "Python 3",
   "language": "python",
   "name": "python3"
  },
  "language_info": {
   "codemirror_mode": {
    "name": "ipython",
    "version": 3
   },
   "file_extension": ".py",
   "mimetype": "text/x-python",
   "name": "python",
   "nbconvert_exporter": "python",
   "pygments_lexer": "ipython3",
   "version": "3.6.4"
  }
 },
 "nbformat": 4,
 "nbformat_minor": 2
}
